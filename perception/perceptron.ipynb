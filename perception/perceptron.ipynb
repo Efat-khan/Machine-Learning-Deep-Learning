{
  "nbformat": 4,
  "nbformat_minor": 0,
  "metadata": {
    "colab": {
      "provenance": []
    },
    "kernelspec": {
      "name": "python3",
      "display_name": "Python 3"
    },
    "language_info": {
      "name": "python"
    }
  },
  "cells": [
    {
      "cell_type": "markdown",
      "source": [
        "# **Implementing a Perceptron**"
      ],
      "metadata": {
        "id": "uwzUQSzQn8Xs"
      }
    },
    {
      "cell_type": "markdown",
      "source": [
        "**Loading the Dataset**"
      ],
      "metadata": {
        "id": "r0uTTEuWoFI4"
      }
    },
    {
      "cell_type": "code",
      "execution_count": 3,
      "metadata": {
        "colab": {
          "base_uri": "https://localhost:8080/",
          "height": 677
        },
        "id": "e_D2KPvInV77",
        "outputId": "7df01f10-858f-40a3-c222-d9d1cab1643e"
      },
      "outputs": [
        {
          "output_type": "execute_result",
          "data": {
            "text/plain": [
              "      x1    x2  label\n",
              "0   0.77 -1.14      0\n",
              "1  -0.33  1.44      0\n",
              "2   0.91 -3.07      0\n",
              "3  -0.37 -1.91      0\n",
              "4  -0.63 -1.53      0\n",
              "5   0.39 -1.99      0\n",
              "6  -0.49 -2.74      0\n",
              "7  -0.68 -1.52      0\n",
              "8  -0.10 -3.43      0\n",
              "9  -0.05 -1.95      0\n",
              "10  3.88  0.65      1\n",
              "11  0.73  2.97      1\n",
              "12  0.83  3.94      1\n",
              "13  1.59  1.25      1\n",
              "14  1.14  3.91      1\n",
              "15  1.73  2.80      1\n",
              "16  1.31  1.85      1\n",
              "17  1.56  3.85      1\n",
              "18  1.23  2.54      1\n",
              "19  1.33  2.03      1"
            ],
            "text/html": [
              "\n",
              "  <div id=\"df-bbf4e706-6d1e-4465-9d29-233b98bbc8e0\" class=\"colab-df-container\">\n",
              "    <div>\n",
              "<style scoped>\n",
              "    .dataframe tbody tr th:only-of-type {\n",
              "        vertical-align: middle;\n",
              "    }\n",
              "\n",
              "    .dataframe tbody tr th {\n",
              "        vertical-align: top;\n",
              "    }\n",
              "\n",
              "    .dataframe thead th {\n",
              "        text-align: right;\n",
              "    }\n",
              "</style>\n",
              "<table border=\"1\" class=\"dataframe\">\n",
              "  <thead>\n",
              "    <tr style=\"text-align: right;\">\n",
              "      <th></th>\n",
              "      <th>x1</th>\n",
              "      <th>x2</th>\n",
              "      <th>label</th>\n",
              "    </tr>\n",
              "  </thead>\n",
              "  <tbody>\n",
              "    <tr>\n",
              "      <th>0</th>\n",
              "      <td>0.77</td>\n",
              "      <td>-1.14</td>\n",
              "      <td>0</td>\n",
              "    </tr>\n",
              "    <tr>\n",
              "      <th>1</th>\n",
              "      <td>-0.33</td>\n",
              "      <td>1.44</td>\n",
              "      <td>0</td>\n",
              "    </tr>\n",
              "    <tr>\n",
              "      <th>2</th>\n",
              "      <td>0.91</td>\n",
              "      <td>-3.07</td>\n",
              "      <td>0</td>\n",
              "    </tr>\n",
              "    <tr>\n",
              "      <th>3</th>\n",
              "      <td>-0.37</td>\n",
              "      <td>-1.91</td>\n",
              "      <td>0</td>\n",
              "    </tr>\n",
              "    <tr>\n",
              "      <th>4</th>\n",
              "      <td>-0.63</td>\n",
              "      <td>-1.53</td>\n",
              "      <td>0</td>\n",
              "    </tr>\n",
              "    <tr>\n",
              "      <th>5</th>\n",
              "      <td>0.39</td>\n",
              "      <td>-1.99</td>\n",
              "      <td>0</td>\n",
              "    </tr>\n",
              "    <tr>\n",
              "      <th>6</th>\n",
              "      <td>-0.49</td>\n",
              "      <td>-2.74</td>\n",
              "      <td>0</td>\n",
              "    </tr>\n",
              "    <tr>\n",
              "      <th>7</th>\n",
              "      <td>-0.68</td>\n",
              "      <td>-1.52</td>\n",
              "      <td>0</td>\n",
              "    </tr>\n",
              "    <tr>\n",
              "      <th>8</th>\n",
              "      <td>-0.10</td>\n",
              "      <td>-3.43</td>\n",
              "      <td>0</td>\n",
              "    </tr>\n",
              "    <tr>\n",
              "      <th>9</th>\n",
              "      <td>-0.05</td>\n",
              "      <td>-1.95</td>\n",
              "      <td>0</td>\n",
              "    </tr>\n",
              "    <tr>\n",
              "      <th>10</th>\n",
              "      <td>3.88</td>\n",
              "      <td>0.65</td>\n",
              "      <td>1</td>\n",
              "    </tr>\n",
              "    <tr>\n",
              "      <th>11</th>\n",
              "      <td>0.73</td>\n",
              "      <td>2.97</td>\n",
              "      <td>1</td>\n",
              "    </tr>\n",
              "    <tr>\n",
              "      <th>12</th>\n",
              "      <td>0.83</td>\n",
              "      <td>3.94</td>\n",
              "      <td>1</td>\n",
              "    </tr>\n",
              "    <tr>\n",
              "      <th>13</th>\n",
              "      <td>1.59</td>\n",
              "      <td>1.25</td>\n",
              "      <td>1</td>\n",
              "    </tr>\n",
              "    <tr>\n",
              "      <th>14</th>\n",
              "      <td>1.14</td>\n",
              "      <td>3.91</td>\n",
              "      <td>1</td>\n",
              "    </tr>\n",
              "    <tr>\n",
              "      <th>15</th>\n",
              "      <td>1.73</td>\n",
              "      <td>2.80</td>\n",
              "      <td>1</td>\n",
              "    </tr>\n",
              "    <tr>\n",
              "      <th>16</th>\n",
              "      <td>1.31</td>\n",
              "      <td>1.85</td>\n",
              "      <td>1</td>\n",
              "    </tr>\n",
              "    <tr>\n",
              "      <th>17</th>\n",
              "      <td>1.56</td>\n",
              "      <td>3.85</td>\n",
              "      <td>1</td>\n",
              "    </tr>\n",
              "    <tr>\n",
              "      <th>18</th>\n",
              "      <td>1.23</td>\n",
              "      <td>2.54</td>\n",
              "      <td>1</td>\n",
              "    </tr>\n",
              "    <tr>\n",
              "      <th>19</th>\n",
              "      <td>1.33</td>\n",
              "      <td>2.03</td>\n",
              "      <td>1</td>\n",
              "    </tr>\n",
              "  </tbody>\n",
              "</table>\n",
              "</div>\n",
              "    <div class=\"colab-df-buttons\">\n",
              "\n",
              "  <div class=\"colab-df-container\">\n",
              "    <button class=\"colab-df-convert\" onclick=\"convertToInteractive('df-bbf4e706-6d1e-4465-9d29-233b98bbc8e0')\"\n",
              "            title=\"Convert this dataframe to an interactive table.\"\n",
              "            style=\"display:none;\">\n",
              "\n",
              "  <svg xmlns=\"http://www.w3.org/2000/svg\" height=\"24px\" viewBox=\"0 -960 960 960\">\n",
              "    <path d=\"M120-120v-720h720v720H120Zm60-500h600v-160H180v160Zm220 220h160v-160H400v160Zm0 220h160v-160H400v160ZM180-400h160v-160H180v160Zm440 0h160v-160H620v160ZM180-180h160v-160H180v160Zm440 0h160v-160H620v160Z\"/>\n",
              "  </svg>\n",
              "    </button>\n",
              "\n",
              "  <style>\n",
              "    .colab-df-container {\n",
              "      display:flex;\n",
              "      gap: 12px;\n",
              "    }\n",
              "\n",
              "    .colab-df-convert {\n",
              "      background-color: #E8F0FE;\n",
              "      border: none;\n",
              "      border-radius: 50%;\n",
              "      cursor: pointer;\n",
              "      display: none;\n",
              "      fill: #1967D2;\n",
              "      height: 32px;\n",
              "      padding: 0 0 0 0;\n",
              "      width: 32px;\n",
              "    }\n",
              "\n",
              "    .colab-df-convert:hover {\n",
              "      background-color: #E2EBFA;\n",
              "      box-shadow: 0px 1px 2px rgba(60, 64, 67, 0.3), 0px 1px 3px 1px rgba(60, 64, 67, 0.15);\n",
              "      fill: #174EA6;\n",
              "    }\n",
              "\n",
              "    .colab-df-buttons div {\n",
              "      margin-bottom: 4px;\n",
              "    }\n",
              "\n",
              "    [theme=dark] .colab-df-convert {\n",
              "      background-color: #3B4455;\n",
              "      fill: #D2E3FC;\n",
              "    }\n",
              "\n",
              "    [theme=dark] .colab-df-convert:hover {\n",
              "      background-color: #434B5C;\n",
              "      box-shadow: 0px 1px 3px 1px rgba(0, 0, 0, 0.15);\n",
              "      filter: drop-shadow(0px 1px 2px rgba(0, 0, 0, 0.3));\n",
              "      fill: #FFFFFF;\n",
              "    }\n",
              "  </style>\n",
              "\n",
              "    <script>\n",
              "      const buttonEl =\n",
              "        document.querySelector('#df-bbf4e706-6d1e-4465-9d29-233b98bbc8e0 button.colab-df-convert');\n",
              "      buttonEl.style.display =\n",
              "        google.colab.kernel.accessAllowed ? 'block' : 'none';\n",
              "\n",
              "      async function convertToInteractive(key) {\n",
              "        const element = document.querySelector('#df-bbf4e706-6d1e-4465-9d29-233b98bbc8e0');\n",
              "        const dataTable =\n",
              "          await google.colab.kernel.invokeFunction('convertToInteractive',\n",
              "                                                    [key], {});\n",
              "        if (!dataTable) return;\n",
              "\n",
              "        const docLinkHtml = 'Like what you see? Visit the ' +\n",
              "          '<a target=\"_blank\" href=https://colab.research.google.com/notebooks/data_table.ipynb>data table notebook</a>'\n",
              "          + ' to learn more about interactive tables.';\n",
              "        element.innerHTML = '';\n",
              "        dataTable['output_type'] = 'display_data';\n",
              "        await google.colab.output.renderOutput(dataTable, element);\n",
              "        const docLink = document.createElement('div');\n",
              "        docLink.innerHTML = docLinkHtml;\n",
              "        element.appendChild(docLink);\n",
              "      }\n",
              "    </script>\n",
              "  </div>\n",
              "\n",
              "\n",
              "<div id=\"df-edbfd6bf-8160-4ad7-bdef-5f06c722d98c\">\n",
              "  <button class=\"colab-df-quickchart\" onclick=\"quickchart('df-edbfd6bf-8160-4ad7-bdef-5f06c722d98c')\"\n",
              "            title=\"Suggest charts\"\n",
              "            style=\"display:none;\">\n",
              "\n",
              "<svg xmlns=\"http://www.w3.org/2000/svg\" height=\"24px\"viewBox=\"0 0 24 24\"\n",
              "     width=\"24px\">\n",
              "    <g>\n",
              "        <path d=\"M19 3H5c-1.1 0-2 .9-2 2v14c0 1.1.9 2 2 2h14c1.1 0 2-.9 2-2V5c0-1.1-.9-2-2-2zM9 17H7v-7h2v7zm4 0h-2V7h2v10zm4 0h-2v-4h2v4z\"/>\n",
              "    </g>\n",
              "</svg>\n",
              "  </button>\n",
              "\n",
              "<style>\n",
              "  .colab-df-quickchart {\n",
              "      --bg-color: #E8F0FE;\n",
              "      --fill-color: #1967D2;\n",
              "      --hover-bg-color: #E2EBFA;\n",
              "      --hover-fill-color: #174EA6;\n",
              "      --disabled-fill-color: #AAA;\n",
              "      --disabled-bg-color: #DDD;\n",
              "  }\n",
              "\n",
              "  [theme=dark] .colab-df-quickchart {\n",
              "      --bg-color: #3B4455;\n",
              "      --fill-color: #D2E3FC;\n",
              "      --hover-bg-color: #434B5C;\n",
              "      --hover-fill-color: #FFFFFF;\n",
              "      --disabled-bg-color: #3B4455;\n",
              "      --disabled-fill-color: #666;\n",
              "  }\n",
              "\n",
              "  .colab-df-quickchart {\n",
              "    background-color: var(--bg-color);\n",
              "    border: none;\n",
              "    border-radius: 50%;\n",
              "    cursor: pointer;\n",
              "    display: none;\n",
              "    fill: var(--fill-color);\n",
              "    height: 32px;\n",
              "    padding: 0;\n",
              "    width: 32px;\n",
              "  }\n",
              "\n",
              "  .colab-df-quickchart:hover {\n",
              "    background-color: var(--hover-bg-color);\n",
              "    box-shadow: 0 1px 2px rgba(60, 64, 67, 0.3), 0 1px 3px 1px rgba(60, 64, 67, 0.15);\n",
              "    fill: var(--button-hover-fill-color);\n",
              "  }\n",
              "\n",
              "  .colab-df-quickchart-complete:disabled,\n",
              "  .colab-df-quickchart-complete:disabled:hover {\n",
              "    background-color: var(--disabled-bg-color);\n",
              "    fill: var(--disabled-fill-color);\n",
              "    box-shadow: none;\n",
              "  }\n",
              "\n",
              "  .colab-df-spinner {\n",
              "    border: 2px solid var(--fill-color);\n",
              "    border-color: transparent;\n",
              "    border-bottom-color: var(--fill-color);\n",
              "    animation:\n",
              "      spin 1s steps(1) infinite;\n",
              "  }\n",
              "\n",
              "  @keyframes spin {\n",
              "    0% {\n",
              "      border-color: transparent;\n",
              "      border-bottom-color: var(--fill-color);\n",
              "      border-left-color: var(--fill-color);\n",
              "    }\n",
              "    20% {\n",
              "      border-color: transparent;\n",
              "      border-left-color: var(--fill-color);\n",
              "      border-top-color: var(--fill-color);\n",
              "    }\n",
              "    30% {\n",
              "      border-color: transparent;\n",
              "      border-left-color: var(--fill-color);\n",
              "      border-top-color: var(--fill-color);\n",
              "      border-right-color: var(--fill-color);\n",
              "    }\n",
              "    40% {\n",
              "      border-color: transparent;\n",
              "      border-right-color: var(--fill-color);\n",
              "      border-top-color: var(--fill-color);\n",
              "    }\n",
              "    60% {\n",
              "      border-color: transparent;\n",
              "      border-right-color: var(--fill-color);\n",
              "    }\n",
              "    80% {\n",
              "      border-color: transparent;\n",
              "      border-right-color: var(--fill-color);\n",
              "      border-bottom-color: var(--fill-color);\n",
              "    }\n",
              "    90% {\n",
              "      border-color: transparent;\n",
              "      border-bottom-color: var(--fill-color);\n",
              "    }\n",
              "  }\n",
              "</style>\n",
              "\n",
              "  <script>\n",
              "    async function quickchart(key) {\n",
              "      const quickchartButtonEl =\n",
              "        document.querySelector('#' + key + ' button');\n",
              "      quickchartButtonEl.disabled = true;  // To prevent multiple clicks.\n",
              "      quickchartButtonEl.classList.add('colab-df-spinner');\n",
              "      try {\n",
              "        const charts = await google.colab.kernel.invokeFunction(\n",
              "            'suggestCharts', [key], {});\n",
              "      } catch (error) {\n",
              "        console.error('Error during call to suggestCharts:', error);\n",
              "      }\n",
              "      quickchartButtonEl.classList.remove('colab-df-spinner');\n",
              "      quickchartButtonEl.classList.add('colab-df-quickchart-complete');\n",
              "    }\n",
              "    (() => {\n",
              "      let quickchartButtonEl =\n",
              "        document.querySelector('#df-edbfd6bf-8160-4ad7-bdef-5f06c722d98c button');\n",
              "      quickchartButtonEl.style.display =\n",
              "        google.colab.kernel.accessAllowed ? 'block' : 'none';\n",
              "    })();\n",
              "  </script>\n",
              "</div>\n",
              "\n",
              "  <div id=\"id_7bef8258-9da4-4fea-881c-21ab63b4dc24\">\n",
              "    <style>\n",
              "      .colab-df-generate {\n",
              "        background-color: #E8F0FE;\n",
              "        border: none;\n",
              "        border-radius: 50%;\n",
              "        cursor: pointer;\n",
              "        display: none;\n",
              "        fill: #1967D2;\n",
              "        height: 32px;\n",
              "        padding: 0 0 0 0;\n",
              "        width: 32px;\n",
              "      }\n",
              "\n",
              "      .colab-df-generate:hover {\n",
              "        background-color: #E2EBFA;\n",
              "        box-shadow: 0px 1px 2px rgba(60, 64, 67, 0.3), 0px 1px 3px 1px rgba(60, 64, 67, 0.15);\n",
              "        fill: #174EA6;\n",
              "      }\n",
              "\n",
              "      [theme=dark] .colab-df-generate {\n",
              "        background-color: #3B4455;\n",
              "        fill: #D2E3FC;\n",
              "      }\n",
              "\n",
              "      [theme=dark] .colab-df-generate:hover {\n",
              "        background-color: #434B5C;\n",
              "        box-shadow: 0px 1px 3px 1px rgba(0, 0, 0, 0.15);\n",
              "        filter: drop-shadow(0px 1px 2px rgba(0, 0, 0, 0.3));\n",
              "        fill: #FFFFFF;\n",
              "      }\n",
              "    </style>\n",
              "    <button class=\"colab-df-generate\" onclick=\"generateWithVariable('df')\"\n",
              "            title=\"Generate code using this dataframe.\"\n",
              "            style=\"display:none;\">\n",
              "\n",
              "  <svg xmlns=\"http://www.w3.org/2000/svg\" height=\"24px\"viewBox=\"0 0 24 24\"\n",
              "       width=\"24px\">\n",
              "    <path d=\"M7,19H8.4L18.45,9,17,7.55,7,17.6ZM5,21V16.75L18.45,3.32a2,2,0,0,1,2.83,0l1.4,1.43a1.91,1.91,0,0,1,.58,1.4,1.91,1.91,0,0,1-.58,1.4L9.25,21ZM18.45,9,17,7.55Zm-12,3A5.31,5.31,0,0,0,4.9,8.1,5.31,5.31,0,0,0,1,6.5,5.31,5.31,0,0,0,4.9,4.9,5.31,5.31,0,0,0,6.5,1,5.31,5.31,0,0,0,8.1,4.9,5.31,5.31,0,0,0,12,6.5,5.46,5.46,0,0,0,6.5,12Z\"/>\n",
              "  </svg>\n",
              "    </button>\n",
              "    <script>\n",
              "      (() => {\n",
              "      const buttonEl =\n",
              "        document.querySelector('#id_7bef8258-9da4-4fea-881c-21ab63b4dc24 button.colab-df-generate');\n",
              "      buttonEl.style.display =\n",
              "        google.colab.kernel.accessAllowed ? 'block' : 'none';\n",
              "\n",
              "      buttonEl.onclick = () => {\n",
              "        google.colab.notebook.generateWithVariable('df');\n",
              "      }\n",
              "      })();\n",
              "    </script>\n",
              "  </div>\n",
              "\n",
              "    </div>\n",
              "  </div>\n"
            ],
            "application/vnd.google.colaboratory.intrinsic+json": {
              "type": "dataframe",
              "variable_name": "df",
              "summary": "{\n  \"name\": \"df\",\n  \"rows\": 20,\n  \"fields\": [\n    {\n      \"column\": \"x1\",\n      \"properties\": {\n        \"dtype\": \"number\",\n        \"std\": 1.0901707978207145,\n        \"min\": -0.68,\n        \"max\": 3.88,\n        \"num_unique_values\": 20,\n        \"samples\": [\n          0.77,\n          1.56,\n          1.73\n        ],\n        \"semantic_type\": \"\",\n        \"description\": \"\"\n      }\n    },\n    {\n      \"column\": \"x2\",\n      \"properties\": {\n        \"dtype\": \"number\",\n        \"std\": 2.54690291799358,\n        \"min\": -3.43,\n        \"max\": 3.94,\n        \"num_unique_values\": 20,\n        \"samples\": [\n          -1.14,\n          3.85,\n          2.8\n        ],\n        \"semantic_type\": \"\",\n        \"description\": \"\"\n      }\n    },\n    {\n      \"column\": \"label\",\n      \"properties\": {\n        \"dtype\": \"number\",\n        \"std\": 0,\n        \"min\": 0,\n        \"max\": 1,\n        \"num_unique_values\": 2,\n        \"samples\": [\n          1,\n          0\n        ],\n        \"semantic_type\": \"\",\n        \"description\": \"\"\n      }\n    }\n  ]\n}"
            }
          },
          "metadata": {},
          "execution_count": 3
        }
      ],
      "source": [
        "import pandas as pd\n",
        "url = 'https://raw.githubusercontent.com/fhsiddiqui/dl-fundamentals-sebastian/main/unit01-ml-intro/1.6-perceptron-in-python/perceptron_toydata-truncated.txt'\n",
        "df = pd.read_csv(url, sep='\\t')\n",
        "df\n"
      ]
    },
    {
      "cell_type": "code",
      "source": [
        "X_train = df[[\"x1\",\"x2\"]].values\n",
        "y_train = df[\"label\"].values"
      ],
      "metadata": {
        "id": "o5jNPCfxou84"
      },
      "execution_count": 6,
      "outputs": []
    },
    {
      "cell_type": "code",
      "source": [
        "print(X_train.shape)\n",
        "print(X_train)"
      ],
      "metadata": {
        "colab": {
          "base_uri": "https://localhost:8080/"
        },
        "id": "4cnJRdfHpf_L",
        "outputId": "cdec18d1-9e03-4dec-91c3-4b25bfe69129"
      },
      "execution_count": 11,
      "outputs": [
        {
          "output_type": "stream",
          "name": "stdout",
          "text": [
            "(20, 2)\n",
            "[[ 0.77 -1.14]\n",
            " [-0.33  1.44]\n",
            " [ 0.91 -3.07]\n",
            " [-0.37 -1.91]\n",
            " [-0.63 -1.53]\n",
            " [ 0.39 -1.99]\n",
            " [-0.49 -2.74]\n",
            " [-0.68 -1.52]\n",
            " [-0.1  -3.43]\n",
            " [-0.05 -1.95]\n",
            " [ 3.88  0.65]\n",
            " [ 0.73  2.97]\n",
            " [ 0.83  3.94]\n",
            " [ 1.59  1.25]\n",
            " [ 1.14  3.91]\n",
            " [ 1.73  2.8 ]\n",
            " [ 1.31  1.85]\n",
            " [ 1.56  3.85]\n",
            " [ 1.23  2.54]\n",
            " [ 1.33  2.03]]\n"
          ]
        }
      ]
    },
    {
      "cell_type": "code",
      "source": [
        "print(y_train.shape)\n",
        "print(y_train)"
      ],
      "metadata": {
        "colab": {
          "base_uri": "https://localhost:8080/"
        },
        "id": "WciFOQKwpvV7",
        "outputId": "12166c70-f915-4860-96b1-2d8baf6288ec"
      },
      "execution_count": 13,
      "outputs": [
        {
          "output_type": "stream",
          "name": "stdout",
          "text": [
            "(20,)\n",
            "[0 0 0 0 0 0 0 0 0 0 1 1 1 1 1 1 1 1 1 1]\n"
          ]
        }
      ]
    },
    {
      "cell_type": "code",
      "source": [
        "import numpy as np\n",
        "# If y_train contains class labels like:\n",
        "\n",
        "# python\n",
        "# Copy code\n",
        "# y_train = [0, 1, 1, 2, 2, 2, 3]\n",
        "# Running:\n",
        "\n",
        "# python\n",
        "# Copy code\n",
        "# np.bincount(y_train)\n",
        "# Produces:\n",
        "\n",
        "# python\n",
        "# Copy code\n",
        "# array([1, 2, 3, 1])\n",
        "# This means:\n",
        "\n",
        "# Class 0 appears 1 time,\n",
        "# Class 1 appears 2 times,\n",
        "# Class 2 appears 3 times,\n",
        "# Class 3 appears 1 time.\n",
        "# Common Use Case:\n",
        "# np.bincount is often used in machine learning to analyze\n",
        "# class imbalances in classification tasks. For example,\n",
        "# you might use it to verify if y_train has balanced or imbalanced class distributions.\n",
        "np.bincount(y_train)"
      ],
      "metadata": {
        "colab": {
          "base_uri": "https://localhost:8080/"
        },
        "id": "Uxcw6OWhp5EM",
        "outputId": "f8c4d4c7-d30c-43f1-fba3-9bf50336daaf"
      },
      "execution_count": 16,
      "outputs": [
        {
          "output_type": "execute_result",
          "data": {
            "text/plain": [
              "array([10, 10])"
            ]
          },
          "metadata": {},
          "execution_count": 16
        }
      ]
    },
    {
      "cell_type": "markdown",
      "source": [
        "# **Visualizing the dataset**"
      ],
      "metadata": {
        "id": "pv2cszXfsRiZ"
      }
    },
    {
      "cell_type": "code",
      "source": [
        "%matplotlib inline\n",
        "import matplotlib.pyplot as plt"
      ],
      "metadata": {
        "id": "SDTrHy8FsTCa"
      },
      "execution_count": 17,
      "outputs": []
    },
    {
      "cell_type": "code",
      "source": [
        "plt.plot(\n",
        "    X_train[y_train == 0, 0],\n",
        "    X_train[y_train == 0, 1],\n",
        "    marker=\"D\",\n",
        "    markersize=10,\n",
        "    linestyle=\"\",\n",
        "    label=\"Class 0\",\n",
        ")\n",
        "\n",
        "plt.plot(\n",
        "    X_train[y_train == 1, 0],\n",
        "    X_train[y_train == 1, 1],\n",
        "    marker=\"^\",\n",
        "    markersize=13,\n",
        "    linestyle=\"\",\n",
        "    label=\"Class 1\",\n",
        ")\n",
        "\n",
        "plt.legend(loc=2)\n",
        "\n",
        "plt.xlim([-5, 5])\n",
        "plt.ylim([-5, 5])\n",
        "\n",
        "plt.xlabel(\"Feature $x_1$\", fontsize=12)\n",
        "plt.ylabel(\"Feature $x_2$\", fontsize=12)\n",
        "\n",
        "plt.grid()\n",
        "plt.show()"
      ],
      "metadata": {
        "colab": {
          "base_uri": "https://localhost:8080/",
          "height": 455
        },
        "id": "TiNxpPmzuBlE",
        "outputId": "66e53285-f904-40c4-de4d-e713d9f5dbef"
      },
      "execution_count": 20,
      "outputs": [
        {
          "output_type": "display_data",
          "data": {
            "text/plain": [
              "<Figure size 640x480 with 1 Axes>"
            ],
            "image/png": "[encoded data removed]"
          },
          "metadata": {}
        }
      ]
    },
    {
      "cell_type": "markdown",
      "source": [
        "# **Implementing the Perceptron**![perceptron-sketch.png](data:image/png;base64,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)"
      ],
      "metadata": {
        "id": "8QImi4_71MY7"
      }
    },
    {
      "cell_type": "code",
      "source": [
        "class Perception:\n",
        "  def __init__(self,num_features):\n",
        "    self.num_features = num_features\n",
        "    # self.weights = np.zeros(num_features)\n",
        "    self.weights = [0.0 for _ in range(num_features)]\n",
        "    self.bais = 0.0"
      ],
      "metadata": {
        "id": "yQvpj2Sp1eLc"
      },
      "execution_count": 30,
      "outputs": []
    },
    {
      "cell_type": "code",
      "source": [
        "ppn = Perception(num_features = 2)\n",
        "ppn.weights\n"
      ],
      "metadata": {
        "colab": {
          "base_uri": "https://localhost:8080/"
        },
        "id": "3RkbtMtM3gL7",
        "outputId": "1f94dccf-f5ab-42d7-80bf-6758911ad441"
      },
      "execution_count": 31,
      "outputs": [
        {
          "output_type": "execute_result",
          "data": {
            "text/plain": [
              "[0.0, 0.0]"
            ]
          },
          "metadata": {},
          "execution_count": 31
        }
      ]
    },
    {
      "cell_type": "code",
      "source": [
        "ppn.bais"
      ],
      "metadata": {
        "colab": {
          "base_uri": "https://localhost:8080/"
        },
        "id": "fRcVtcGQ37SB",
        "outputId": "29aab124-d5cc-4fdd-83be-850518ac6ff1"
      },
      "execution_count": 32,
      "outputs": [
        {
          "output_type": "execute_result",
          "data": {
            "text/plain": [
              "0.0"
            ]
          },
          "metadata": {},
          "execution_count": 32
        }
      ]
    },
    {
      "cell_type": "markdown",
      "source": [
        "![354060246_215836974683278_573732580845786716_n.png](data:image/png;base64,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)"
      ],
      "metadata": {
        "id": "mWQPnDSu4IJQ"
      }
    },
    {
      "cell_type": "code",
      "source": [],
      "metadata": {
        "id": "dolOEsCg4TNQ"
      },
      "execution_count": null,
      "outputs": []
    }
  ]
}